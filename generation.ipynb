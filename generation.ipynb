{
  "cells": [
    {
      "cell_type": "markdown",
      "source": [
        "###### **© 2025** | Licensed under the [MIT License](LICENSE)"
      ],
      "metadata": {
        "id": "dwROWJITTzam"
      }
    },
    {
      "cell_type": "markdown",
      "metadata": {
        "id": "Ql4ulfQAFr10"
      },
      "source": [
        "# Interactive Gemini Image Generator\n",
        "\n",
        "This notebook is a hands-on tool to generate images with Gemini 2.5 Flash Image (aka Nano Banana) using different prompting methods.\n",
        "\n",
        "## The Image Reference Approach\n",
        "\n",
        "This notebook is designed to let you use the \"Color Image Reference\" method, which our separate evaluation study found to be the most accurate way to achieve color adherence. The idea is the following:\n",
        "\n",
        "1.  Start from a color picker or any color code value (HEX, RGB, or HSL).\n",
        "2.  Generate a plain color image from this color code, i.e., a tiny square filled entirely with the selected color. This is done in the background with Pillow.\n",
        "3.  The square is then converted into a PNG and encoded so it can be sent to the model.\n",
        "4.  Pass the plain color image as an input reference to Nano Banana: along with the user text prompt (and any other uploaded images), the plain color image is included in the request.\n",
        "5.  Because the model can literally \"see\" the color instead of just reading it as text, it follows the reference much more accurately.\n",
        "\n",
        "### How to Use This Notebook:\n",
        "\n",
        "* **To use the Color image reference method:**\n",
        "    1.  Pick a color in **\"2. Choose Color\"**.\n",
        "    2.  Check the **\"Use color as a reference image\"** box.\n",
        "    3.  Write your prompt and click **Generate**.\n",
        "\n",
        "* **To test the Text-only method:**\n",
        "    1.  Leave the \"Use color as a reference image\" box **unchecked**.\n",
        "    2.  Make sure to write the color (e.g., \"a red car\") in your text prompt."
      ]
    },
    {
      "cell_type": "markdown",
      "source": [
        "**Install Dependencies**"
      ],
      "metadata": {
        "id": "bYTxsOUhJKCb"
      }
    },
    {
      "cell_type": "code",
      "source": [
        "# 1. Install correct libraries\n",
        "!pip install -q google-genai pillow ipywidgets"
      ],
      "metadata": {
        "id": "EGAgs73tSoFt"
      },
      "execution_count": null,
      "outputs": []
    },
    {
      "cell_type": "markdown",
      "source": [
        "**Import Libraries**"
      ],
      "metadata": {
        "id": "xSaDMlNyJOlB"
      }
    },
    {
      "cell_type": "code",
      "source": [
        "import google.genai as genai\n",
        "from PIL import Image, ImageDraw\n",
        "import io\n",
        "import os\n",
        "import getpass\n",
        "import ipywidgets as widgets\n",
        "from IPython.display import display, clear_output, HTML # <-- Added HTML\n",
        "import base64\n",
        "import time"
      ],
      "metadata": {
        "id": "8wKqLDosSpnM"
      },
      "execution_count": null,
      "outputs": []
    },
    {
      "cell_type": "markdown",
      "source": [
        "**Helper Functions**"
      ],
      "metadata": {
        "id": "QbusFMQHJs9y"
      }
    },
    {
      "cell_type": "code",
      "source": [
        "# These are the helper functions to create the color swatch\n",
        "def hex_to_rgb(h):\n",
        "    \"\"\"Converts a hex color string to an (R, G, B) tuple.\"\"\"\n",
        "    h = h.lstrip(\"#\")\n",
        "    return tuple(int(h[i : i + 2], 16) for i in (0, 2, 4))\n",
        "\n",
        "def create_color_swatch_bytes(hex_color, size=(256, 256)):\n",
        "    \"\"\"Creates a PNG image of a solid color in memory.\"\"\"\n",
        "    img = Image.new(\"RGB\", size, color=hex_to_rgb(hex_color))\n",
        "    buf = io.BytesIO()\n",
        "    img.save(buf, format=\"PNG\")\n",
        "    return buf.getvalue()"
      ],
      "metadata": {
        "id": "LfELkYP9TCHP"
      },
      "execution_count": null,
      "outputs": []
    },
    {
      "cell_type": "markdown",
      "source": [
        "**Define the UI Widgets**"
      ],
      "metadata": {
        "id": "AIxJF0UfMRdb"
      }
    },
    {
      "cell_type": "code",
      "source": [
        "# --- Create all the interactive UI elements ---\n",
        "\n",
        "# 1. API Key\n",
        "api_key_input = widgets.Text(\n",
        "    description='1. Gemini API Key:',\n",
        "    placeholder='Enter your API key here',\n",
        "    layout=widgets.Layout(width='400px'),\n",
        "    style={'description_width': 'initial'}\n",
        ")\n",
        "\n",
        "validate_button = widgets.Button(\n",
        "    description=\"Validate Key\",\n",
        "    button_style='info',\n",
        "    tooltip='Click to check if your API key is valid'\n",
        ")\n",
        "\n",
        "validation_output = widgets.Output(layout=widgets.Layout(margin='5px 0 0 110px'))\n",
        "\n",
        "# 2. Color\n",
        "color_picker = widgets.ColorPicker(\n",
        "    description='2. Choose Color:',\n",
        "    value='#3498DB',\n",
        "    concise=False,\n",
        "    style={'description_width': 'initial'}\n",
        ")\n",
        "\n",
        "use_color_ref = widgets.Checkbox(\n",
        "    value=False,\n",
        "    description='Use color as a reference image',\n",
        "    style={'description_width': 'initial'}\n",
        ")\n",
        "\n",
        "# 3. Image Upload\n",
        "image_uploader = widgets.FileUpload(\n",
        "    accept='image/*',\n",
        "    multiple=True,\n",
        "    description='3. Upload Images',\n",
        "    style={'description_width': 'initial'}\n",
        ")\n",
        "\n",
        "# 4. Prompt\n",
        "prompt_input = widgets.Textarea(\n",
        "    placeholder='A high-tech sphere levitating in a futuristic lab',\n",
        "    description='4. Your Prompt:',\n",
        "    layout=widgets.Layout(width='500px', height='100px'),\n",
        "    style={'description_width': 'initial'}\n",
        ")\n",
        "\n",
        "# 5. Generate Button\n",
        "generate_button = widgets.Button(\n",
        "    description='Generate Image',\n",
        "    button_style='primary',\n",
        "    tooltip='Click to generate the image'\n",
        ")\n",
        "\n",
        "# 6. Output Area\n",
        "output_area = widgets.Output(layout=widgets.Layout(\n",
        "    border='1px solid #ccc',\n",
        "    height='512px',\n",
        "    width='512px',\n",
        "    margin='10px 0 0 0',\n",
        "    display='flex',\n",
        "    align_items='center',\n",
        "    justify_content='center'\n",
        "))\n",
        "\n",
        "with output_area:\n",
        "    print(\"Your generated image will appear here.\")\n",
        "\n",
        "# 7. Download Button\n",
        "download_button = widgets.Button(\n",
        "    description='Download Last Image',\n",
        "    button_style='success',\n",
        "    tooltip='Click to generate a download link'\n",
        ")\n",
        "\n",
        "# 8. Download Link Output Area\n",
        "download_link_area = widgets.Output(layout=widgets.Layout(margin='10px 0 0 0'))"
      ],
      "metadata": {
        "id": "b3mNtafRSpqp"
      },
      "execution_count": null,
      "outputs": []
    },
    {
      "cell_type": "markdown",
      "source": [
        "**Define the Generation Logic**"
      ],
      "metadata": {
        "id": "_JQuXCadPXlT"
      }
    },
    {
      "cell_type": "code",
      "source": [
        "# --- App State ---\n",
        "# Simple dictionary to hold the last generated image bytes\n",
        "app_state = {\n",
        "    'last_image_bytes': None\n",
        "}\n",
        "\n",
        "# --- Validation Function ---\n",
        "def on_validate_button_clicked(b):\n",
        "    api_key = api_key_input.value\n",
        "    with validation_output:\n",
        "        clear_output()\n",
        "    if not api_key:\n",
        "        with validation_output:\n",
        "            print(\"❌ Key is empty.\")\n",
        "        return\n",
        "    with validation_output:\n",
        "        print(\"Validating...\")\n",
        "    try:\n",
        "        client = genai.Client(api_key=api_key)\n",
        "        list(client.models.list())\n",
        "        with validation_output:\n",
        "            clear_output()\n",
        "            print(\"✅ Valid!\")\n",
        "    except Exception as e:\n",
        "        with validation_output:\n",
        "            clear_output()\n",
        "            print(f\"❌ Invalid Key or API Error.\")\n",
        "            print(f\"\\nDetails: {e}\")\n",
        "\n",
        "# --- Generation Function ---\n",
        "def on_generate_button_clicked(b):\n",
        "    with output_area:\n",
        "        clear_output()\n",
        "        print(\"Generating, please wait...\")\n",
        "\n",
        "    # Clear any old download links\n",
        "    with download_link_area:\n",
        "        clear_output()\n",
        "\n",
        "    api_key = api_key_input.value\n",
        "    color = color_picker.value\n",
        "    use_color = use_color_ref.value\n",
        "    uploads = image_uploader.value\n",
        "    prompt = prompt_input.value\n",
        "\n",
        "    if not api_key:\n",
        "        with output_area:\n",
        "            clear_output()\n",
        "            print(\"Error: Please enter your Gemini API Key.\")\n",
        "        return\n",
        "\n",
        "    try:\n",
        "        client = genai.Client(api_key=api_key)\n",
        "        model_name = \"gemini-2.5-flash-image-preview\"\n",
        "\n",
        "        parts = []\n",
        "        if prompt:\n",
        "            parts.append(prompt)\n",
        "        if uploads:\n",
        "            for file_info in uploads:\n",
        "                content = file_info['content']\n",
        "                parts.append(Image.open(io.BytesIO(content)))\n",
        "        if use_color:\n",
        "            parts.append(\"Recolor or apply the color from the following color swatch.\")\n",
        "            color_swatch = Image.open(io.BytesIO(create_color_swatch_bytes(color)))\n",
        "            parts.append(color_swatch)\n",
        "\n",
        "        response = client.models.generate_content(\n",
        "            model=model_name,\n",
        "            contents=parts\n",
        "        )\n",
        "\n",
        "        generated_image_bytes = None\n",
        "        if response.candidates:\n",
        "            for part in response.candidates[0].content.parts:\n",
        "                if part.inline_data:\n",
        "                    generated_image_bytes = part.inline_data.data\n",
        "                    break\n",
        "\n",
        "        if generated_image_bytes:\n",
        "            # Save the bytes for download\n",
        "            app_state['last_image_bytes'] = generated_image_bytes\n",
        "\n",
        "            with output_area:\n",
        "                clear_output()\n",
        "                display(Image.open(io.BytesIO(generated_image_bytes)))\n",
        "        else:\n",
        "            with output_area:\n",
        "                clear_output()\n",
        "                error_text = response.text if (hasattr(response, 'text') and response.text) else \"No image data found.\"\n",
        "                print(f\"Generation failed. Response: {error_text}\")\n",
        "\n",
        "    except google.api_core.exceptions.PermissionDenied as e:\n",
        "        with output_area:\n",
        "            clear_output()\n",
        "            print(f\"Authentication Error: Your API Key is invalid or has permissions issues.\")\n",
        "            print(f\"\\nDetails: {e}\")\n",
        "    except Exception as e:\n",
        "        with output_area:\n",
        "            clear_output()\n",
        "            print(f\"An error occurred: {e}\")\n",
        "\n",
        "def on_download_button_clicked(b):\n",
        "    \"\"\"Generates a download link for the last image.\"\"\"\n",
        "    with download_link_area:\n",
        "        clear_output()\n",
        "        image_bytes = app_state.get('last_image_bytes')\n",
        "\n",
        "        if image_bytes:\n",
        "            # Encode the image bytes as Base64\n",
        "            b64 = base64.b64encode(image_bytes).decode()\n",
        "\n",
        "            # Create a unique filename\n",
        "            filename = f\"generated_image_{int(time.time())}.png\"\n",
        "\n",
        "            # Create an HTML <a> tag with the download link\n",
        "            href = f'<a href=\"data:image/png;base64,{b64}\" download=\"{filename}\" target=\"_blank\" style=\"color: #3498DB; font-size: 16px;\">Click Here to Download: {filename}</a>'\n",
        "\n",
        "            # Display the link\n",
        "            display(HTML(href))\n",
        "        else:\n",
        "            print(\"You must generate an image before you can download it.\")\n",
        "\n",
        "# Link the button click events to our functions\n",
        "generate_button.on_click(on_generate_button_clicked)\n",
        "validate_button.on_click(on_validate_button_clicked)\n",
        "download_button.on_click(on_download_button_clicked) # <-- ADD THIS"
      ],
      "metadata": {
        "id": "zEVqoJc1TdGk"
      },
      "execution_count": null,
      "outputs": []
    },
    {
      "cell_type": "markdown",
      "source": [
        "**Display the UI**"
      ],
      "metadata": {
        "id": "6serdSniQWxp"
      }
    },
    {
      "cell_type": "code",
      "source": [
        "# Group the API key elements horizontally\n",
        "api_key_box = widgets.HBox([\n",
        "    api_key_input,\n",
        "    validate_button\n",
        "])\n",
        "\n",
        "# Display all the widgets in a vertical box\n",
        "ui = widgets.VBox([\n",
        "    api_key_box,\n",
        "    validation_output,\n",
        "    color_picker,\n",
        "    use_color_ref,\n",
        "    image_uploader,\n",
        "    prompt_input,\n",
        "    generate_button,\n",
        "    output_area,\n",
        "    download_button,      # <-- ADD THIS\n",
        "    download_link_area  # <-- ADD THIS\n",
        "])\n",
        "\n",
        "display(ui)"
      ],
      "metadata": {
        "id": "Lll5xDG-wVEd"
      },
      "execution_count": null,
      "outputs": []
    }
  ],
  "metadata": {
    "colab": {
      "private_outputs": true,
      "provenance": []
    },
    "kernelspec": {
      "display_name": "Python 3",
      "name": "python3"
    },
    "language_info": {
      "name": "python"
    }
  },
  "nbformat": 4,
  "nbformat_minor": 0
}