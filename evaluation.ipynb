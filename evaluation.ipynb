{
  "cells": [
    {
      "cell_type": "markdown",
      "source": [
        "###### **© 2025** | Licensed under the [MIT License](LICENSE)"
      ],
      "metadata": {
        "id": "nuYPVdwsUD-x"
      }
    },
    {
      "cell_type": "markdown",
      "metadata": {
        "id": "Ql4ulfQAFr10"
      },
      "source": [
        "# Color Code Adherence in AI Image Generation Models: A Case Study on Gemini\n",
        "\n",
        "In this notebook, we evaluate how well Gemini 2.5 Flash Image (aka \"Nano Banana\") reproduces target colors specified in HEX, RGB, and HSL formats. For that, we analyze 50 generated images created with the model.\n",
        "\n",
        "We test two methods:\n",
        "1.  **Text-only color instructions:** Giving the model a contextual prompt plus a text hex code (e.g., `\"The color is #d81515\"`).\n",
        "2.  **Color Image Reference:** Giving the model the same contextual prompt plus a visual image swatch of that color.\n",
        "\n",
        "We evaluate the results using the **Delta E 2000** formula, the industry standard for perceptual color difference.\n"
      ]
    },
    {
      "cell_type": "markdown",
      "source": [
        "**Install Dependencies**"
      ],
      "metadata": {
        "id": "bYTxsOUhJKCb"
      }
    },
    {
      "cell_type": "code",
      "source": [
        "!pip install --q --no-cache-dir google-genai pillow numpy pandas scikit-image tqdm"
      ],
      "metadata": {
        "id": "EGAgs73tSoFt"
      },
      "execution_count": null,
      "outputs": []
    },
    {
      "cell_type": "markdown",
      "source": [
        "**Import Libraries**"
      ],
      "metadata": {
        "id": "xSaDMlNyJOlB"
      }
    },
    {
      "cell_type": "code",
      "source": [
        "from google import genai\n",
        "from PIL import Image, ImageDraw, ImageFont, ImageOps\n",
        "import io\n",
        "import os\n",
        "import numpy as np\n",
        "import pandas as pd\n",
        "from skimage import color\n",
        "from google.api_core import exceptions as google_exceptions\n",
        "import getpass\n",
        "import time\n",
        "import base64\n",
        "from IPython.display import display, HTML\n",
        "import urllib.request\n",
        "import matplotlib.pyplot as plt\n",
        "import numpy as np"
      ],
      "metadata": {
        "id": "8wKqLDosSpnM"
      },
      "execution_count": null,
      "outputs": []
    },
    {
      "cell_type": "markdown",
      "source": [
        "**Download Font**\n",
        "\n",
        "We download an open-source font (DejaVu Sans) so we can draw clear, readable titles directly onto our test images for the report."
      ],
      "metadata": {
        "id": "UDVopiZGJeh0"
      }
    },
    {
      "cell_type": "code",
      "source": [
        "FONT_URL = \"https://github.com/dejavu-fonts/dejavu-fonts/blob/main/ttf/DejaVuSans.ttf?raw=true\"\n",
        "FONT_FILE = \"DejaVuSans.ttf\"\n",
        "\n",
        "try:\n",
        "    urllib.request.urlretrieve(FONT_URL, FONT_FILE)\n",
        "    print(f\"Successfully downloaded font: {FONT_FILE}\")\n",
        "    # Test loading the font to make sure it works\n",
        "    test_font = ImageFont.truetype(FONT_FILE, size=16)\n",
        "    print(\"Font loaded successfully.\")\n",
        "except Exception as e:\n",
        "    print(f\"Error downloading or loading font: {e}\")\n",
        "    print(\"Titles may not appear correctly.\")"
      ],
      "metadata": {
        "id": "QV1haccskoyO"
      },
      "execution_count": null,
      "outputs": []
    },
    {
      "cell_type": "markdown",
      "source": [
        "**Configure API Key**"
      ],
      "metadata": {
        "id": "QbusFMQHJs9y"
      }
    },
    {
      "cell_type": "code",
      "source": [
        "# --- 1. Securely get the API key ---\n",
        "try:\n",
        "    # Check if key is already set in the environment\n",
        "    API_KEY = os.environ[\"GEMINI_API_KEY\"]\n",
        "    print(\"Found API Key in GEMINI_API_KEY environment variable.\")\n",
        "except KeyError:\n",
        "    try:\n",
        "        API_KEY = os.environ[\"GOOGLE_API_KEY\"]\n",
        "        print(\"Found API Key in GOOGLE_API_KEY environment variable.\")\n",
        "    except KeyError:\n",
        "        print(\"API Key not found in environment. Please enter it below.\")\n",
        "        API_KEY = getpass.getpass(\"Enter your Gemini API Key: \")\n",
        "\n",
        "if not API_KEY:\n",
        "    print(\"❌ Error: API Key is empty. Please provide a key.\")\n",
        "else:\n",
        "    # --- 2. Initialize and VALIDATE the client ---\n",
        "    try:\n",
        "        print(\"Validating API Key...\")\n",
        "\n",
        "        # Initialize the client (this defines 'client')\n",
        "        client = genai.Client(api_key=API_KEY)\n",
        "\n",
        "        # Make a light, fast test call to validate the key\n",
        "        list(client.models.list())\n",
        "\n",
        "        print(\"✅ Success! API Key is valid.\")\n",
        "\n",
        "        # Define the model to use for image generation\n",
        "        IMAGE_MODEL = \"gemini-2.5-flash-image-preview\"\n",
        "\n",
        "    except google_exceptions.PermissionDenied as e:\n",
        "        print(\"❌ Validation Failed: Invalid API Key. Please check your key and try again.\")\n",
        "        # We stop the notebook by raising the error\n",
        "        raise e\n",
        "    except Exception as e:\n",
        "        print(f\"❌ An error occurred during validation: {e}\")\n",
        "        # We stop the notebook by raising the error\n",
        "        raise e"
      ],
      "metadata": {
        "id": "LfELkYP9TCHP"
      },
      "execution_count": null,
      "outputs": []
    },
    {
      "cell_type": "markdown",
      "source": [
        "**Helper Functions**\n",
        "\n",
        "This cell contains all our core helper functions for image processing, color math, and adding titles."
      ],
      "metadata": {
        "id": "AIxJF0UfMRdb"
      }
    },
    {
      "cell_type": "code",
      "source": [
        "FONT_PATH = \"DejaVuSans.ttf\"  # Font file we downloaded\n",
        "TITLE_BAR_HEIGHT = 30         # Height in pixels for the title bar\n",
        "\n",
        "def add_title_to_image(image, title_text):\n",
        "    \"\"\"\n",
        "    Takes a PIL Image and returns a new image with a black title bar\n",
        "    and white text drawn on it.\n",
        "    \"\"\"\n",
        "    try:\n",
        "        font = ImageFont.truetype(FONT_PATH, size=16)\n",
        "    except IOError:\n",
        "        print(f\"Font not found at {FONT_PATH}. Using default font.\")\n",
        "        font = ImageFont.load_default()\n",
        "\n",
        "    # Create a new blank canvas (black) that is taller than the original image\n",
        "    new_width = image.width\n",
        "    new_height = image.height + TITLE_BAR_HEIGHT\n",
        "    titled_image = Image.new(\"RGB\", (new_width, new_height), color=\"black\")\n",
        "\n",
        "    # Paste the original generated image onto the canvas, below the title bar area\n",
        "    titled_image.paste(image, (0, TITLE_BAR_HEIGHT))\n",
        "\n",
        "    # Prepare to draw text\n",
        "    draw = ImageDraw.Draw(titled_image)\n",
        "\n",
        "    # Simple text centering\n",
        "    text_position = (10, 7) # (x, y) padding from top-left\n",
        "\n",
        "    draw.text(text_position, title_text, font=font, fill=\"white\")\n",
        "\n",
        "    return titled_image\n",
        "\n",
        "def display_side_by_side(*args, titles=[]):\n",
        "    html_str = '<table>'\n",
        "    if titles:\n",
        "        html_str += '<tr>' + ''.join(f'<th style=\"text-align:center; padding: 10px; color: white;\">{title}</th>' for title in titles) + '</tr>'\n",
        "    html_str += '<tr>'\n",
        "    for img in args:\n",
        "        buffered = io.BytesIO()\n",
        "        img.save(buffered, format=\"PNG\")\n",
        "        img_str = base64.b64encode(buffered.getvalue()).decode()\n",
        "        html_str += f'<td style=\"padding: 10px;\"><img src=\"data:image/png;base64,{img_str}\" style=\"border: 1px solid #555; border-radius: 8px; max-width: 300px;\" /></td>'\n",
        "    html_str += '</tr></table>'\n",
        "    display(HTML(html_str))\n",
        "\n",
        "def hex_to_rgb(h):\n",
        "    h = h.lstrip(\"#\")\n",
        "    return tuple(int(h[i : i + 2], 16) for i in (0, 2, 4))\n",
        "\n",
        "def create_color_swatch_image(hex_color, size=(256, 256)):\n",
        "    rgb_color = hex_to_rgb(hex_color)\n",
        "    return Image.new(\"RGB\", size, color=rgb_color)\n",
        "\n",
        "def calculate_delta_e(rgb1, rgb2):\n",
        "    rgb1_array = np.array([[rgb1]], dtype=np.uint8)\n",
        "    rgb2_array = np.array([[rgb2]], dtype=np.uint8)\n",
        "    lab1 = color.rgb2lab(rgb1_array)\n",
        "    lab2 = color.rgb2lab(rgb2_array)\n",
        "    delta = color.deltaE_ciede2000(lab1, lab2)\n",
        "    return delta.item()\n",
        "\n",
        "def get_average_rgb(image):\n",
        "    avg_img = image.resize((1, 1), Image.Resampling.LANCZOS)\n",
        "    return avg_img.getpixel((0, 0))"
      ],
      "metadata": {
        "id": "b3mNtafRSpqp"
      },
      "execution_count": null,
      "outputs": []
    },
    {
      "cell_type": "markdown",
      "source": [
        "**Core Evaluation Functions**\n",
        "\n",
        "This is the heart of our experiment.\n",
        "* `run_generation`: A function to call the Gemini API, with built-in retries for rate limits.\n",
        "* `evaluate_combination`: This performs our 2-way test for a single color, runs the analysis, and displays the titled results."
      ],
      "metadata": {
        "id": "_JQuXCadPXlT"
      }
    },
    {
      "cell_type": "code",
      "source": [
        "def run_generation(prompt_parts):\n",
        "    \"\"\"\n",
        "    Calls the Gemini API and returns the generated PIL Image.\n",
        "    Includes retry logic for rate limiting.\n",
        "    On failure, returns None.\n",
        "    \"\"\"\n",
        "    retries = 3\n",
        "    wait_time = 10\n",
        "\n",
        "    for i in range(retries):\n",
        "        try:\n",
        "            response = client.models.generate_content(\n",
        "                model=IMAGE_MODEL,\n",
        "                contents=prompt_parts\n",
        "            )\n",
        "\n",
        "            if response.candidates:\n",
        "                for part in response.candidates[0].content.parts:\n",
        "                    if part.inline_data:\n",
        "                        return Image.open(io.BytesIO(part.inline_data.data)) # <-- Success\n",
        "\n",
        "            error_text = response.text if response.text else \"No image data found in response.\"\n",
        "            print(f\"  Generation complete, but no image returned. Response: {error_text}\")\n",
        "            break\n",
        "\n",
        "        except google_exceptions.ResourceExhausted as e:\n",
        "            print(f\"  Hit rate limit. Waiting {wait_time}s... (Attempt {i+1}/{retries})\")\n",
        "            time.sleep(wait_time)\n",
        "            wait_time *= 2\n",
        "\n",
        "        except google_exceptions.InternalServerError as e:\n",
        "            print(f\"  API internal error. Waiting {wait_time}s... (Attempt {i+1}/{retries})\")\n",
        "            time.sleep(wait_time)\n",
        "            wait_time *= 2\n",
        "\n",
        "        except Exception as e:\n",
        "            print(f\"  Generation failed (non-retriable): {e}\")\n",
        "            break\n",
        "\n",
        "    print(\"  All retries failed.\")\n",
        "    return None\n",
        "\n",
        "def evaluate_combination(prompt, hex_color): # Takes base prompt + color\n",
        "    \"\"\"\n",
        "    Runs the 2-way test:\n",
        "    1. Text-Only (Contextual)\n",
        "    2. Image-Only (Contextual)\n",
        "    \"\"\"\n",
        "    print(f\"--- Evaluating: '{prompt}' with color {hex_color} ---\")\n",
        "\n",
        "    # --- Setup ---\n",
        "    reference_color_rgb = hex_to_rgb(hex_color)\n",
        "    color_swatch_img = create_color_swatch_image(hex_color)\n",
        "\n",
        "    # --- Run 1: Text-Only (Contextual) ---\n",
        "    print(\"Generating (Run 1/2: Text-Only)...\")\n",
        "    start_time = time.time()\n",
        "    parts_text = [f\"{prompt}. The color is {hex_color}.\"]\n",
        "    img_text = run_generation(prompt_parts=parts_text)\n",
        "    time_text = time.time() - start_time\n",
        "\n",
        "    if img_text is None:\n",
        "        print(\"  Generation failed for Run 1. Skipping this color.\")\n",
        "        return None\n",
        "\n",
        "    avg_color_text = get_average_rgb(img_text)\n",
        "    delta_e_text = calculate_delta_e(reference_color_rgb, avg_color_text)\n",
        "\n",
        "    print(\"  Pausing 10s...\")\n",
        "    time.sleep(10)\n",
        "\n",
        "    # --- Run 2: Image-Only (Contextual) ---\n",
        "    print(\"Generating (Run 2/2: Image-Only)...\")\n",
        "    start_time = time.time()\n",
        "    parts_image = [f\"{prompt}. The color should match the attached swatch.\", color_swatch_img]\n",
        "    img_image = run_generation(prompt_parts=parts_image)\n",
        "    time_image = time.time() - start_time\n",
        "\n",
        "    if img_image is None:\n",
        "        print(\"  Generation failed for Run 2. Skipping this color.\")\n",
        "        return None\n",
        "\n",
        "    avg_color_image = get_average_rgb(img_image)\n",
        "    delta_e_image = calculate_delta_e(reference_color_rgb, avg_color_image)\n",
        "\n",
        "    print(\"Evaluation Complete. Generating titled display...\")\n",
        "\n",
        "    display_img_target = add_title_to_image(color_swatch_img.resize((256, 256)), f\"Target: {hex_color}\")\n",
        "    display_img_run1 = add_title_to_image(img_text.resize((256, 256)), \"Run 1: Text-only\")\n",
        "    display_img_run2 = add_title_to_image(img_image.resize((256, 256)), \"Run 2: Image reference\")\n",
        "\n",
        "    avg_swatch_text = create_color_swatch_image(f\"#{'%02x%02x%02x' % avg_color_text}\")\n",
        "    avg_swatch_image = create_color_swatch_image(f\"#{'%02x%02x%02x' % avg_color_image}\")\n",
        "\n",
        "    display_side_by_side(\n",
        "        display_img_target,\n",
        "        display_img_run1,\n",
        "        display_img_run2,\n",
        "        titles=[]\n",
        "    )\n",
        "\n",
        "    display_side_by_side(\n",
        "        create_color_swatch_image(hex_color, (256, 50)),\n",
        "        avg_swatch_text.resize((256, 50)),\n",
        "        avg_swatch_image.resize((256, 50)),\n",
        "        titles=[\n",
        "            f\"Reference Color\",\n",
        "            f\"Avg. Color (Run 1)\",\n",
        "            f\"Avg. Color (Run 2)\"\n",
        "        ]\n",
        "    )\n",
        "\n",
        "    print(f\"Delta E (Run 1: Text-Only):   {delta_e_text:.2f}\")\n",
        "    print(f\"Delta E (Run 2: Image-Only):  {delta_e_image:.2f}\")\n",
        "\n",
        "    scores = {\n",
        "        \"Text-Only\": delta_e_text,\n",
        "        \"Image-Only\": delta_e_image\n",
        "    }\n",
        "    best_method = min(scores, key=scores.get)\n",
        "    print(f\"✅ Best Method: {best_method} (ΔE: {scores[best_method]:.2f})\")\n",
        "\n",
        "    return {\n",
        "        \"hex_color\": hex_color,\n",
        "        \"delta_e_text\": delta_e_text,\n",
        "        \"delta_e_image\": delta_e_image,\n",
        "        \"best_method\": best_method,\n",
        "        \"best_score\": scores[best_method],\n",
        "        \"img_text\": img_text,\n",
        "        \"img_image\": img_image,\n",
        "        \"time_text\": time_text,\n",
        "        \"time_image\": time_image\n",
        "    }"
      ],
      "metadata": {
        "id": "zEVqoJc1TdGk"
      },
      "execution_count": null,
      "outputs": []
    },
    {
      "cell_type": "markdown",
      "source": [
        "**Generate Color List**\n",
        "\n",
        "Here we define our base prompt and generate our test data: a list of 100 diverse colors, providing a large buffer to ensure we get 50 successful test runs."
      ],
      "metadata": {
        "id": "6serdSniQWxp"
      }
    },
    {
      "cell_type": "code",
      "source": [
        "import colorsys\n",
        "import numpy as np\n",
        "from IPython.display import display\n",
        "\n",
        "def generate_diverse_colors(n=150): # <-- Increased buffer to 100\n",
        "    colors_hex = []\n",
        "    saturation = 0.9\n",
        "    value = 0.85\n",
        "\n",
        "    for hue in np.linspace(0, 1, n, endpoint=False):\n",
        "        r, g, b = colorsys.hsv_to_rgb(hue, saturation, value)\n",
        "        r_255, g_255, b_255 = int(r * 255), int(g * 255), int(b * 255)\n",
        "        hex_code = f\"#{r_255:02x}{g_255:02x}{b_255:02x}\"\n",
        "        colors_hex.append(hex_code)\n",
        "    return colors_hex\n",
        "\n",
        "color_list = generate_diverse_colors(100) # <-- Generates 100 colors\n",
        "print(f\"Generated {len(color_list)} diverse colors (to provide a buffer for any failures).\")\n",
        "\n",
        "# Visualize the color palette\n",
        "print(\"Test Palette:\")\n",
        "swatches = [create_color_swatch_image(c, size=(10, 50)) for c in color_list]\n",
        "full_swatch = Image.new('RGB', (len(swatches) * 10, 50))\n",
        "x_offset = 0\n",
        "for swatch in swatches:\n",
        "    full_swatch.paste(swatch, (x_offset, 0))\n",
        "    x_offset += 10\n",
        "display(full_swatch)"
      ],
      "metadata": {
        "id": "Lll5xDG-wVEd"
      },
      "execution_count": null,
      "outputs": []
    },
    {
      "cell_type": "markdown",
      "source": [
        "**Run the 50-Example Loop**\n",
        "\n",
        "This is the main execution cell. It runs the loop until it collects 50 successful test results. It skips any failures and shows a progress bar. This may take several minutes to complete."
      ],
      "metadata": {
        "id": "ZVSdE2lCQdGe"
      }
    },
    {
      "cell_type": "code",
      "source": [
        "from tqdm.notebook import tqdm # Use notebook-friendly progress bar\n",
        "\n",
        "all_results = []\n",
        "\n",
        "prompt = \"A full-frame, solid-color background. The entire image should be a single, flat, unified color. No texture, no lighting, no gradients.\"\n",
        "\n",
        "\n",
        "print(f\"Starting evaluation... will run until 50 successful examples are collected.\")\n",
        "print(f\"Using base prompt: '{prompt}'\")\n",
        "\n",
        "color_iterator = iter(color_list)\n",
        "pbar = tqdm(total=50, desc=\"Gathering successful examples\")\n",
        "\n",
        "while len(all_results) < 50:\n",
        "    try:\n",
        "        hex_color = next(color_iterator)\n",
        "    except StopIteration:\n",
        "        print(\"!!! Ran out of colors before reaching 100 successes.\") # Note: This should match your 'total' in pbar\n",
        "        print(f\"Proceeding with {len(all_results)} successful examples.\")\n",
        "        break\n",
        "\n",
        "    # Correctly pass BOTH arguments\n",
        "    results = evaluate_combination(prompt, hex_color)\n",
        "\n",
        "    if results is not None:\n",
        "        all_results.append(results)\n",
        "        pbar.update(1)\n",
        "    else:\n",
        "        print(f\"  Skipping failed color {hex_color}, trying next...\")\n",
        "\n",
        "pbar.close()\n",
        "print(f\"Evaluation complete. Collected {len(all_results)} successful results.\")"
      ],
      "metadata": {
        "id": "P6Smz0zhbyua"
      },
      "execution_count": null,
      "outputs": []
    },
    {
      "cell_type": "markdown",
      "source": [
        "**Final Summary Table**\n",
        "\n",
        "Here we compile all the successful runs into a clean pandas DataFrame, calculate the overall statistics, and display the final report-ready table."
      ],
      "metadata": {
        "id": "Rxk5nWU4Qr40"
      }
    },
    {
      "cell_type": "code",
      "source": [
        "df_data = []\n",
        "for r in all_results:\n",
        "    data = r.copy()\n",
        "    # Remove all image objects to make a clean dataframe\n",
        "    del data[\"img_text\"]\n",
        "    del data[\"img_image\"]\n",
        "    df_data.append(data)\n",
        "\n",
        "df = pd.DataFrame(df_data)\n",
        "\n",
        "# --- New High-Level Analysis ---\n",
        "print(f\"--- Overall Statistics ({len(df_data)} Successful Runs) ---\")\n",
        "avg_de_text = df['delta_e_text'].mean()\n",
        "avg_de_image = df['delta_e_image'].mean()\n",
        "\n",
        "# Count wins for each method\n",
        "wins_text = (df['best_method'] == 'Text-Only').sum()\n",
        "wins_image = (df['best_method'] == 'Image-Only').sum()\n",
        "\n",
        "avg_scores = {\n",
        "    \"Text-Only\": avg_de_text,\n",
        "    \"Image-Only\": avg_de_image\n",
        "}\n",
        "overall_best_method = min(avg_scores, key=avg_scores.get)\n",
        "\n",
        "print(f\"Average Delta E (Text-Only):    {avg_de_text:.2f}\")\n",
        "print(f\"Average Delta E (Image-Only):   {avg_de_image:.2f}\")\n",
        "print(\"---\")\n",
        "print(f\"Total Wins (Text-Only):     {wins_text} / {len(df_data)}\")\n",
        "print(f\"Total Wins (Image-Only):    {wins_image} / {len(df_data)}\")\n",
        "print(\"---\")\n",
        "print(f\"✅ Overall Best Method: {overall_best_method} (Avg. ΔE: {avg_scores[overall_best_method]:.2f})\")\n",
        "\n",
        "\n",
        "# --- Full Data Table ---\n",
        "print(f\"\\n--- Full Data Table ({len(df_data)} Runs) ---\")\n",
        "\n",
        "# Select only the columns we need for the report\n",
        "df_to_style = df.set_index('hex_color')[[\n",
        "    'delta_e_text',\n",
        "    'delta_e_image',\n",
        "    'best_method',\n",
        "    'best_score'\n",
        "]]\n",
        "\n",
        "df_renamed = df_to_style.rename(columns={\n",
        "    \"delta_e_text\": \"ΔE (Text-Only)\",\n",
        "    \"delta_e_image\": \"ΔE (Image-Only)\",\n",
        "    \"best_method\": \"Best Method\",\n",
        "    \"best_score\": \"Best Score (ΔE)\"\n",
        "})\n",
        "\n",
        "df_styled = df_renamed.style.background_gradient(\n",
        "    cmap='viridis_r', subset=['Best Score (ΔE)']  # Green for low scores\n",
        ").format({\n",
        "    'ΔE (Text-Only)': '{:.2f}',\n",
        "    'ΔE (Image-Only)': '{:.2f}',\n",
        "    'Best Score (ΔE)': '{:.2f}',\n",
        "}).set_caption(\"2-Way Instruction Method Comparison (Lower ΔE is Better)\")\n",
        "\n",
        "display(df_styled)"
      ],
      "metadata": {
        "id": "duNw5bzMTtdB"
      },
      "execution_count": null,
      "outputs": []
    },
    {
      "cell_type": "markdown",
      "source": [
        "**Color Difference Distribution**"
      ],
      "metadata": {
        "id": "occyLkPgDaSH"
      }
    },
    {
      "cell_type": "code",
      "source": [
        "print(f\"Generating distribution plot for all {len(df)} samples...\")\n",
        "\n",
        "plt.style.use('default')\n",
        "\n",
        "# Sort the DataFrame to make the chart easier to read.\n",
        "df_sorted = df.sort_values(by='delta_e_text', ascending=False)\n",
        "\n",
        "# Get the data from the final DataFrame\n",
        "labels = df_sorted['hex_color']\n",
        "de_text_values = df_sorted['delta_e_text']\n",
        "de_image_values = df_sorted['delta_e_image']\n",
        "\n",
        "x = np.arange(len(labels))  # the label locations\n",
        "width = 0.4  # the width of the bars\n",
        "\n",
        "fig, ax = plt.subplots(figsize=(20, 12))\n",
        "\n",
        "rects1 = ax.bar(x - width/2, de_text_values, width,\n",
        "                label='ΔE (Text-Only Color Instruction)',\n",
        "                color='#808080',  # Medium Gray\n",
        "                hatch='//')       # Add stripes\n",
        "\n",
        "rects2 = ax.bar(x + width/2, de_image_values, width,\n",
        "                label='ΔE (Color Image Reference)',\n",
        "                color='#000000')\n",
        "\n",
        "# --- Add Labels, Title, and Legend ---\n",
        "ax.set_ylabel('Delta E 2000 Score (Lower is Better)', fontsize=16)\n",
        "ax.set_title(f'Delta E Distribution: Text-Only Color Instruction vs. Color Image Reference (n={len(df_sorted)})', fontsize=20)\n",
        "ax.set_xticks(x)\n",
        "ax.set_xticklabels(labels, rotation=90, fontsize=11) #\n",
        "\n",
        "# Set legend and grid\n",
        "ax.legend(fontsize=16)\n",
        "ax.grid(axis='y', linestyle='--', alpha=0.7)\n",
        "\n",
        "fig.tight_layout()\n",
        "plt.show()"
      ],
      "metadata": {
        "id": "thXnQlhi7Cbp"
      },
      "execution_count": null,
      "outputs": []
    },
    {
      "cell_type": "markdown",
      "source": [
        "## Final Conclusion & Interpretation\n",
        "\n",
        "The data from this 50-sample test provides two key insights:\n",
        "\n",
        "**Image reference based generation is near-perfect:** The color image reference method resulted in an average Delta E score that is close to or below 1.0. This means the model can reproduce a visual color reference with a level of precision that is imperceptible to the human eye. The plots show that this is consistent across the entire color spectrum.\n",
        "\n",
        "**Final takeaway:** For creative, fast generation, a text prompt is fine. For any professional or brand-accurate work that requires precise color replication, you must use a visual image reference to unlock the model's powerful and precise matching capabilities."
      ],
      "metadata": {
        "id": "C6pKdcn_RGHj"
      }
    }
  ],
  "metadata": {
    "colab": {
      "private_outputs": true,
      "provenance": []
    },
    "kernelspec": {
      "display_name": "Python 3",
      "name": "python3"
    },
    "language_info": {
      "name": "python"
    }
  },
  "nbformat": 4,
  "nbformat_minor": 0
}